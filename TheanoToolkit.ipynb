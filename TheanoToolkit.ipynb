{
 "cells": [
  {
   "cell_type": "markdown",
   "metadata": {},
   "source": [
    "# Buildingblocks of the model in theano"
   ]
  },
  {
   "cell_type": "code",
   "execution_count": 1,
   "metadata": {},
   "outputs": [],
   "source": [
    "import numpy as np\n",
    "import theano\n",
    "import theano.tensor as tt\n",
    "import pymc3 as pm\n",
    "\n",
    "import matplotlib.pyplot as plt\n",
    "\n",
    "theano.config.optimizer=\"None\"\n"
   ]
  },
  {
   "cell_type": "markdown",
   "metadata": {},
   "source": [
    "## Lognormal Distribution\n",
    "(as taken from https://github.com/Priesemann-Group/covid19_inference_forecast)"
   ]
  },
  {
   "cell_type": "code",
   "execution_count": 2,
   "metadata": {},
   "outputs": [],
   "source": [
    "def tt_lognormal(x, mu, sigma):\n",
    "    x = tt.clip(x,1e-12,1e12) # Checks to improve stability and resilience against NANs\n",
    "#    mu = tt.clip(mu,1e-12,1)\n",
    "#    sigma = tt.clip(sigma,1e-12,1e12)\n",
    "    \n",
    "    distr = 1/x* tt.exp(-((tt.log(x) - mu) ** 2) / (2 * sigma ** 2))\n",
    "    return distr / (tt.sum(distr, axis=0)+1e-9)"
   ]
  },
  {
   "cell_type": "code",
   "execution_count": null,
   "metadata": {},
   "outputs": [],
   "source": [
    "print(tt_lognormal(np.arange(10),4,.443))\n",
    "\n",
    "s_beta = tt_lognormal(d, tt.log(s_median_incubation), s_sigma_incubation)\n",
    "f_beta = theano.function([d,s_median_incubation,s_sigma_incubation],[s_beta])\n",
    "\n",
    "for m in [4,5,6,7]:\n",
    "    plt.plot(f_beta(np.arange(16),m,.443)[0])"
   ]
  },
  {
   "cell_type": "markdown",
   "metadata": {},
   "source": [
    "## S(I)R Model\n",
    "* tt.roll right shifts the internal state by one\n",
    "* tt_set_subtensor sets the first element of the internal state to the new (imported) cases.\n",
    "No Infection is calculated"
   ]
  },
  {
   "cell_type": "code",
   "execution_count": null,
   "metadata": {},
   "outputs": [],
   "source": [
    "# Working model with shifting internal state instead of taps\n",
    "# Theano symbolic Variables\n",
    "d = tt.vector()\n",
    "s_median_incubation = tt.scalar()\n",
    "s_sigma_incubation = tt.scalar()\n",
    "\n",
    "def SIR_model_noInfect(imported_t,l=16):\n",
    "        \n",
    "    s_imported_t = tt.vector()\n",
    "    s_lambda_t = tt.vector()\n",
    "    p_infected = tt.fvector(\"internal state\")\n",
    "    \n",
    "    def imported_day_acc(imported_at_t,p_infected):\n",
    "        new = imported_at_t\n",
    "        p_infected = tt.roll(p_infected,1,0)\n",
    "        p_infected = tt.set_subtensor(p_infected[:1],new,inplace=False)\n",
    "        return p_infected\n",
    "    \n",
    "    outputs_info = [np.zeros(l)]\n",
    "    infected_t,updates = theano.scan(fn=imported_day_acc,sequences=[s_imported_t],outputs_info=outputs_info)\n",
    "    \n",
    "    # Create a function using the symbolic expressions defined above\n",
    "    calc_infected = theano.function(inputs=[s_imported_t],outputs=infected_t,updates=updates)\n",
    "    # Run that function\n",
    "    return calc_infected(imported_t)"
   ]
  },
  {
   "cell_type": "code",
   "execution_count": null,
   "metadata": {},
   "outputs": [],
   "source": [
    "imported_t = [0,1,2,3,0,0,0,0]\n",
    "print(\"Last internal state\",SIR_model_noInfect(imported_t)[-1] )"
   ]
  },
  {
   "cell_type": "markdown",
   "metadata": {},
   "source": [
    "## SIR Model\n",
    "New infections are calculated on internal state (dot) lognormal infection - distribution"
   ]
  },
  {
   "cell_type": "code",
   "execution_count": 7,
   "metadata": {},
   "outputs": [],
   "source": [
    "# Model that takes imported cases and holds internal state of new_infected on last l days. \n",
    "# new_infected = dot ( infected_of_last_days , beta_distr ) \n",
    "# sequences (if any), prior result(s) (if needed), non-sequences (if any)\n",
    "\n",
    "# Theano symbolic Variables\n",
    "d = tt.vector()\n",
    "s_median_incubation = tt.scalar()\n",
    "s_sigma_incubation = tt.scalar()\n",
    "\n",
    "s_beta = tt_lognormal(d, tt.log(s_median_incubation), s_sigma_incubation)\n",
    "f_beta = theano.function([d,s_median_incubation,s_sigma_incubation],[s_beta])\n",
    "\n",
    "def SIR_model(imported_t,lambda_t, median_incubation,sigma_incubation,l=16):\n",
    "    beta = f_beta(range(l),median_incubation,sigma_incubation)[0]\n",
    "    \n",
    "    s_imported_t = tt.vector()\n",
    "    s_lambda_t = tt.vector()\n",
    "    s_infected_t = tt.vector()\n",
    "    p_infected = tt.dvector(\"internal state\")\n",
    "    \n",
    "    def next_day(lambda_at_t,imported_at_t,p_infected,beta):\n",
    "        new = imported_at_t + theano.dot(p_infected,beta) * lambda_at_t\n",
    "        p_infected = tt.roll(p_infected,1,0)\n",
    "        p_infected = tt.set_subtensor(p_infected[:1],new,inplace=False)\n",
    "        return new,p_infected\n",
    "    # Initial internal state\n",
    "    outputs_info = [None,np.zeros(l)]\n",
    "    infected_t,updates = theano.scan(fn=next_day,\n",
    "                                     sequences=[s_lambda_t,s_imported_t],\n",
    "                                     outputs_info=outputs_info,\n",
    "                                     non_sequences=beta)\n",
    "    # Create a function using the symbolic expressions defined above\n",
    "    calc_infected = theano.function(inputs=[s_lambda_t,s_imported_t],outputs=infected_t,updates=updates)\n",
    "    # Run that function\n",
    "    newI,I = calc_infected(lambda_t,imported_t)\n",
    "    return newI"
   ]
  },
  {
   "cell_type": "code",
   "execution_count": 16,
   "metadata": {},
   "outputs": [
    {
     "data": {
      "text/plain": [
       "<matplotlib.legend.Legend at 0x1197e0810>"
      ]
     },
     "execution_count": 16,
     "metadata": {},
     "output_type": "execute_result"
    },
    {
     "data": {
      "image/png": "[encoded data removed]",
      "text/plain": [
       "<Figure size 432x288 with 1 Axes>"
      ]
     },
     "metadata": {
      "needs_background": "light"
     },
     "output_type": "display_data"
    }
   ],
   "source": [
    "dur = 20\n",
    "imported1_t = np.array( [10.]+[0.]*(dur*5-1) )\n",
    "imported2_t = np.array( [1.]*10+[0.]*(dur*5-10) )\n",
    "\n",
    "lambda_t = np.array( [3.]*dur+[1.5]*dur+[1]*dur+[.8]*dur )\n",
    "\n",
    "median,sigma = 4.,0.433\n",
    "\n",
    "# Test two different initial distributions\n",
    "for k,imp in {\"10_single\":imported1_t,\"10_1per\":imported2_t}.items():\n",
    "    plt.plot( np.log(SIR_model(imp,lambda_t,median,sigma))/np.log(2),label=k )\n",
    "plt.plot(lambda_t,color=\"red\",label=\"lambda_t\")\n",
    "plt.legend()"
   ]
  },
  {
   "cell_type": "markdown",
   "metadata": {},
   "source": [
    "## SEIR model\n",
    "newly infected with factor *f* modelling exposed i.e. not immune\n",
    "E_t counts exposed as internal state"
   ]
  },
  {
   "cell_type": "code",
   "execution_count": 34,
   "metadata": {},
   "outputs": [],
   "source": [
    "# sequences (if any), prior result(s) (if needed), non-sequences (if any)\n",
    "s_beta = tt_lognormal(d, tt.log(s_median_incubation), s_sigma_incubation)\n",
    "f_beta = theano.function([d,s_median_incubation,s_sigma_incubation],[s_beta])\n",
    "\n",
    "def SIER_model(N, imported_t,lambda_t, median_incubation,sigma_incubation,l=16):\n",
    "    N = tt.cast(N,'float64')\n",
    "    beta = f_beta(range(l),median_incubation,sigma_incubation)[0]\n",
    "  #  beta = beta/sum(beta)\n",
    "    \n",
    "    s_imported_t = tt.dvector()\n",
    "    s_lambda_t = tt.dvector()\n",
    "    s_infected_t = tt.dvector()\n",
    "    p_infected = tt.dvector(\"internal state\")\n",
    "    \n",
    "\n",
    "    def imported_day_acc(lambda_at_t,imported_at_t,p_infected,E_t,beta,N):\n",
    "        f = E_t / N\n",
    "        new = imported_at_t + theano.dot(p_infected,beta) * lambda_at_t * f\n",
    "        p_infected = tt.roll(p_infected,1,0)\n",
    "        p_infected = tt.set_subtensor(p_infected[:1],new,inplace=False)\n",
    "        return new,p_infected,E_t-new\n",
    "    \n",
    "    outputs_info = [None,np.zeros(l),N]\n",
    "    infected_t,updates = theano.scan(fn=imported_day_acc,\n",
    "                                     sequences=[s_lambda_t,s_imported_t],\n",
    "                                     outputs_info=outputs_info,\n",
    "                                     non_sequences=[beta,N])\n",
    "    calc_infected = theano.function(inputs=[s_lambda_t,s_imported_t],outputs=infected_t,updates=updates)\n",
    "    \n",
    "    newI,I,E_t = calc_infected(lambda_t,imported_t)\n",
    "    return newI,E_t,"
   ]
  },
  {
   "cell_type": "code",
   "execution_count": 50,
   "metadata": {},
   "outputs": [
    {
     "data": {
      "text/plain": [
       "[<matplotlib.lines.Line2D at 0x11ab85550>]"
      ]
     },
     "execution_count": 50,
     "metadata": {},
     "output_type": "execute_result"
    },
    {
     "data": {
      "image/png": "[encoded data removed]",
      "text/plain": [
       "<Figure size 432x288 with 1 Axes>"
      ]
     },
     "metadata": {
      "needs_background": "light"
     },
     "output_type": "display_data"
    }
   ],
   "source": [
    "median,sigma = 4.,0.433\n",
    "imported_t = np.array([3e5,4e5,5e5,6e5,3e5,4e5,1e5,2e5,2e5]+[0]*50,dtype=np.float64)\n",
    "lambda_t = np.array([2]*len(imported_t),dtype=np.float64)\n",
    "\n",
    "newI,E_t = SIER_model(86e6,imported_t,lambda_t,median,sigma,l=40)\n",
    "\n",
    "plt.plot(np.cumsum(newI))\n",
    "plt.plot(E_t)"
   ]
  },
  {
   "cell_type": "code",
   "execution_count": null,
   "metadata": {},
   "outputs": [],
   "source": []
  }
 ],
 "metadata": {
  "kernelspec": {
   "display_name": "Python 3",
   "language": "python",
   "name": "python3"
  },
  "language_info": {
   "codemirror_mode": {
    "name": "ipython",
    "version": 3
   },
   "file_extension": ".py",
   "mimetype": "text/x-python",
   "name": "python",
   "nbconvert_exporter": "python",
   "pygments_lexer": "ipython3",
   "version": "3.7.7"
  }
 },
 "nbformat": 4,
 "nbformat_minor": 4
}
